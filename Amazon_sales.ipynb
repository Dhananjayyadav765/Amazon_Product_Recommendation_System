{
 "cells": [
  {
   "cell_type": "code",
   "execution_count": 1,
   "id": "aca8710a-54af-4849-b103-4bacc10976bf",
   "metadata": {},
   "outputs": [],
   "source": [
    "import numpy as np\n",
    "import pandas as pd\n",
    "import matplotlib.pyplot as plt"
   ]
  },
  {
   "cell_type": "code",
   "execution_count": 2,
   "id": "5b1f4657-3398-4599-9ce4-40e7954e3d26",
   "metadata": {},
   "outputs": [],
   "source": [
    "import csv\n",
    "with open('amazon.csv',encoding='utf-8',errors='ignore') as filedata:\n",
    "    file_open = csv.reader(filedata)"
   ]
  },
  {
   "cell_type": "code",
   "execution_count": 3,
   "id": "3253ff0a-522e-4a13-b9cf-5ab8d47d9dab",
   "metadata": {},
   "outputs": [
    {
     "data": {
      "text/plain": [
       "Index(['product_id', 'product_name', 'category', 'discounted_price',\n",
       "       'actual_price', 'discount_percentage', 'rating', 'rating_count',\n",
       "       'about_product', 'user_id', 'user_name', 'review_id', 'review_title',\n",
       "       'review_content', 'img_link', 'product_link'],\n",
       "      dtype='object')"
      ]
     },
     "execution_count": 3,
     "metadata": {},
     "output_type": "execute_result"
    }
   ],
   "source": [
    "csv_file = pd.read_csv('amazon.csv')\n",
    "df = pd.DataFrame(csv_file)\n",
    "df.columns  "
   ]
  },
  {
   "cell_type": "code",
   "execution_count": 4,
   "id": "989c25c8-1be1-46eb-9d0b-cc96463ce251",
   "metadata": {},
   "outputs": [
    {
     "data": {
      "text/plain": [
       "product_id             object\n",
       "product_name           object\n",
       "category               object\n",
       "discounted_price       object\n",
       "actual_price           object\n",
       "discount_percentage    object\n",
       "rating                 object\n",
       "rating_count           object\n",
       "about_product          object\n",
       "user_id                object\n",
       "user_name              object\n",
       "review_id              object\n",
       "review_title           object\n",
       "review_content         object\n",
       "img_link               object\n",
       "product_link           object\n",
       "dtype: object"
      ]
     },
     "execution_count": 4,
     "metadata": {},
     "output_type": "execute_result"
    }
   ],
   "source": [
    "df.dtypes"
   ]
  },
  {
   "cell_type": "code",
   "execution_count": 5,
   "id": "8838ee20-73f6-4550-a512-75288f615847",
   "metadata": {},
   "outputs": [
    {
     "data": {
      "text/plain": [
       "(1465, 16)"
      ]
     },
     "execution_count": 5,
     "metadata": {},
     "output_type": "execute_result"
    }
   ],
   "source": [
    "df.shape"
   ]
  },
  {
   "cell_type": "code",
   "execution_count": 6,
   "id": "31f322e5-ecaf-441f-92b4-303c6667699a",
   "metadata": {},
   "outputs": [
    {
     "data": {
      "text/html": [
       "<div>\n",
       "<style scoped>\n",
       "    .dataframe tbody tr th:only-of-type {\n",
       "        vertical-align: middle;\n",
       "    }\n",
       "\n",
       "    .dataframe tbody tr th {\n",
       "        vertical-align: top;\n",
       "    }\n",
       "\n",
       "    .dataframe thead th {\n",
       "        text-align: right;\n",
       "    }\n",
       "</style>\n",
       "<table border=\"1\" class=\"dataframe\">\n",
       "  <thead>\n",
       "    <tr style=\"text-align: right;\">\n",
       "      <th></th>\n",
       "      <th>product_id</th>\n",
       "      <th>product_name</th>\n",
       "      <th>category</th>\n",
       "      <th>discounted_price</th>\n",
       "      <th>actual_price</th>\n",
       "      <th>discount_percentage</th>\n",
       "      <th>rating</th>\n",
       "      <th>rating_count</th>\n",
       "      <th>about_product</th>\n",
       "      <th>user_id</th>\n",
       "      <th>user_name</th>\n",
       "      <th>review_id</th>\n",
       "      <th>review_title</th>\n",
       "      <th>review_content</th>\n",
       "      <th>img_link</th>\n",
       "      <th>product_link</th>\n",
       "    </tr>\n",
       "  </thead>\n",
       "  <tbody>\n",
       "    <tr>\n",
       "      <th>0</th>\n",
       "      <td>B07JW9H4J1</td>\n",
       "      <td>Wayona Nylon Braided USB to Lightning Fast Cha...</td>\n",
       "      <td>Computers&amp;Accessories|Accessories&amp;Peripherals|...</td>\n",
       "      <td>₹399</td>\n",
       "      <td>₹1,099</td>\n",
       "      <td>64%</td>\n",
       "      <td>4.2</td>\n",
       "      <td>24,269</td>\n",
       "      <td>High Compatibility : Compatible With iPhone 12...</td>\n",
       "      <td>AG3D6O4STAQKAY2UVGEUV46KN35Q,AHMY5CWJMMK5BJRBB...</td>\n",
       "      <td>Manav,Adarsh gupta,Sundeep,S.Sayeed Ahmed,jasp...</td>\n",
       "      <td>R3HXWT0LRP0NMF,R2AJM3LFTLZHFO,R6AQJGUP6P86,R1K...</td>\n",
       "      <td>Satisfied,Charging is really fast,Value for mo...</td>\n",
       "      <td>Looks durable Charging is fine tooNo complains...</td>\n",
       "      <td>https://m.media-amazon.com/images/W/WEBP_40237...</td>\n",
       "      <td>https://www.amazon.in/Wayona-Braided-WN3LG1-Sy...</td>\n",
       "    </tr>\n",
       "    <tr>\n",
       "      <th>1</th>\n",
       "      <td>B098NS6PVG</td>\n",
       "      <td>Ambrane Unbreakable 60W / 3A Fast Charging 1.5...</td>\n",
       "      <td>Computers&amp;Accessories|Accessories&amp;Peripherals|...</td>\n",
       "      <td>₹199</td>\n",
       "      <td>₹349</td>\n",
       "      <td>43%</td>\n",
       "      <td>4.0</td>\n",
       "      <td>43,994</td>\n",
       "      <td>Compatible with all Type C enabled devices, be...</td>\n",
       "      <td>AECPFYFQVRUWC3KGNLJIOREFP5LQ,AGYYVPDD7YG7FYNBX...</td>\n",
       "      <td>ArdKn,Nirbhay kumar,Sagar Viswanathan,Asp,Plac...</td>\n",
       "      <td>RGIQEG07R9HS2,R1SMWZQ86XIN8U,R2J3Y1WL29GWDE,RY...</td>\n",
       "      <td>A Good Braided Cable for Your Type C Device,Go...</td>\n",
       "      <td>I ordered this cable to connect my phone to An...</td>\n",
       "      <td>https://m.media-amazon.com/images/W/WEBP_40237...</td>\n",
       "      <td>https://www.amazon.in/Ambrane-Unbreakable-Char...</td>\n",
       "    </tr>\n",
       "    <tr>\n",
       "      <th>2</th>\n",
       "      <td>B096MSW6CT</td>\n",
       "      <td>Sounce Fast Phone Charging Cable &amp; Data Sync U...</td>\n",
       "      <td>Computers&amp;Accessories|Accessories&amp;Peripherals|...</td>\n",
       "      <td>₹199</td>\n",
       "      <td>₹1,899</td>\n",
       "      <td>90%</td>\n",
       "      <td>3.9</td>\n",
       "      <td>7,928</td>\n",
       "      <td>【 Fast Charger&amp; Data Sync】-With built-in safet...</td>\n",
       "      <td>AGU3BBQ2V2DDAMOAKGFAWDDQ6QHA,AESFLDV2PT363T2AQ...</td>\n",
       "      <td>Kunal,Himanshu,viswanath,sai niharka,saqib mal...</td>\n",
       "      <td>R3J3EQQ9TZI5ZJ,R3E7WBGK7ID0KV,RWU79XKQ6I1QF,R2...</td>\n",
       "      <td>Good speed for earlier versions,Good Product,W...</td>\n",
       "      <td>Not quite durable and sturdy,https://m.media-a...</td>\n",
       "      <td>https://m.media-amazon.com/images/W/WEBP_40237...</td>\n",
       "      <td>https://www.amazon.in/Sounce-iPhone-Charging-C...</td>\n",
       "    </tr>\n",
       "    <tr>\n",
       "      <th>3</th>\n",
       "      <td>B08HDJ86NZ</td>\n",
       "      <td>boAt Deuce USB 300 2 in 1 Type-C &amp; Micro USB S...</td>\n",
       "      <td>Computers&amp;Accessories|Accessories&amp;Peripherals|...</td>\n",
       "      <td>₹329</td>\n",
       "      <td>₹699</td>\n",
       "      <td>53%</td>\n",
       "      <td>4.2</td>\n",
       "      <td>94,363</td>\n",
       "      <td>The boAt Deuce USB 300 2 in 1 cable is compati...</td>\n",
       "      <td>AEWAZDZZJLQUYVOVGBEUKSLXHQ5A,AG5HTSFRRE6NL3M5S...</td>\n",
       "      <td>Omkar dhale,JD,HEMALATHA,Ajwadh a.,amar singh ...</td>\n",
       "      <td>R3EEUZKKK9J36I,R3HJVYCLYOY554,REDECAZ7AMPQC,R1...</td>\n",
       "      <td>Good product,Good one,Nice,Really nice product...</td>\n",
       "      <td>Good product,long wire,Charges good,Nice,I bou...</td>\n",
       "      <td>https://m.media-amazon.com/images/I/41V5FtEWPk...</td>\n",
       "      <td>https://www.amazon.in/Deuce-300-Resistant-Tang...</td>\n",
       "    </tr>\n",
       "    <tr>\n",
       "      <th>4</th>\n",
       "      <td>B08CF3B7N1</td>\n",
       "      <td>Portronics Konnect L 1.2M Fast Charging 3A 8 P...</td>\n",
       "      <td>Computers&amp;Accessories|Accessories&amp;Peripherals|...</td>\n",
       "      <td>₹154</td>\n",
       "      <td>₹399</td>\n",
       "      <td>61%</td>\n",
       "      <td>4.2</td>\n",
       "      <td>16,905</td>\n",
       "      <td>[CHARGE &amp; SYNC FUNCTION]- This cable comes wit...</td>\n",
       "      <td>AE3Q6KSUK5P75D5HFYHCRAOLODSA,AFUGIFH5ZAFXRDSZH...</td>\n",
       "      <td>rahuls6099,Swasat Borah,Ajay Wadke,Pranali,RVK...</td>\n",
       "      <td>R1BP4L2HH9TFUP,R16PVJEXKV6QZS,R2UPDB81N66T4P,R...</td>\n",
       "      <td>As good as original,Decent,Good one for second...</td>\n",
       "      <td>Bought this instead of original apple, does th...</td>\n",
       "      <td>https://m.media-amazon.com/images/W/WEBP_40237...</td>\n",
       "      <td>https://www.amazon.in/Portronics-Konnect-POR-1...</td>\n",
       "    </tr>\n",
       "  </tbody>\n",
       "</table>\n",
       "</div>"
      ],
      "text/plain": [
       "   product_id                                       product_name  \\\n",
       "0  B07JW9H4J1  Wayona Nylon Braided USB to Lightning Fast Cha...   \n",
       "1  B098NS6PVG  Ambrane Unbreakable 60W / 3A Fast Charging 1.5...   \n",
       "2  B096MSW6CT  Sounce Fast Phone Charging Cable & Data Sync U...   \n",
       "3  B08HDJ86NZ  boAt Deuce USB 300 2 in 1 Type-C & Micro USB S...   \n",
       "4  B08CF3B7N1  Portronics Konnect L 1.2M Fast Charging 3A 8 P...   \n",
       "\n",
       "                                            category discounted_price  \\\n",
       "0  Computers&Accessories|Accessories&Peripherals|...             ₹399   \n",
       "1  Computers&Accessories|Accessories&Peripherals|...             ₹199   \n",
       "2  Computers&Accessories|Accessories&Peripherals|...             ₹199   \n",
       "3  Computers&Accessories|Accessories&Peripherals|...             ₹329   \n",
       "4  Computers&Accessories|Accessories&Peripherals|...             ₹154   \n",
       "\n",
       "  actual_price discount_percentage rating rating_count  \\\n",
       "0       ₹1,099                 64%    4.2       24,269   \n",
       "1         ₹349                 43%    4.0       43,994   \n",
       "2       ₹1,899                 90%    3.9        7,928   \n",
       "3         ₹699                 53%    4.2       94,363   \n",
       "4         ₹399                 61%    4.2       16,905   \n",
       "\n",
       "                                       about_product  \\\n",
       "0  High Compatibility : Compatible With iPhone 12...   \n",
       "1  Compatible with all Type C enabled devices, be...   \n",
       "2  【 Fast Charger& Data Sync】-With built-in safet...   \n",
       "3  The boAt Deuce USB 300 2 in 1 cable is compati...   \n",
       "4  [CHARGE & SYNC FUNCTION]- This cable comes wit...   \n",
       "\n",
       "                                             user_id  \\\n",
       "0  AG3D6O4STAQKAY2UVGEUV46KN35Q,AHMY5CWJMMK5BJRBB...   \n",
       "1  AECPFYFQVRUWC3KGNLJIOREFP5LQ,AGYYVPDD7YG7FYNBX...   \n",
       "2  AGU3BBQ2V2DDAMOAKGFAWDDQ6QHA,AESFLDV2PT363T2AQ...   \n",
       "3  AEWAZDZZJLQUYVOVGBEUKSLXHQ5A,AG5HTSFRRE6NL3M5S...   \n",
       "4  AE3Q6KSUK5P75D5HFYHCRAOLODSA,AFUGIFH5ZAFXRDSZH...   \n",
       "\n",
       "                                           user_name  \\\n",
       "0  Manav,Adarsh gupta,Sundeep,S.Sayeed Ahmed,jasp...   \n",
       "1  ArdKn,Nirbhay kumar,Sagar Viswanathan,Asp,Plac...   \n",
       "2  Kunal,Himanshu,viswanath,sai niharka,saqib mal...   \n",
       "3  Omkar dhale,JD,HEMALATHA,Ajwadh a.,amar singh ...   \n",
       "4  rahuls6099,Swasat Borah,Ajay Wadke,Pranali,RVK...   \n",
       "\n",
       "                                           review_id  \\\n",
       "0  R3HXWT0LRP0NMF,R2AJM3LFTLZHFO,R6AQJGUP6P86,R1K...   \n",
       "1  RGIQEG07R9HS2,R1SMWZQ86XIN8U,R2J3Y1WL29GWDE,RY...   \n",
       "2  R3J3EQQ9TZI5ZJ,R3E7WBGK7ID0KV,RWU79XKQ6I1QF,R2...   \n",
       "3  R3EEUZKKK9J36I,R3HJVYCLYOY554,REDECAZ7AMPQC,R1...   \n",
       "4  R1BP4L2HH9TFUP,R16PVJEXKV6QZS,R2UPDB81N66T4P,R...   \n",
       "\n",
       "                                        review_title  \\\n",
       "0  Satisfied,Charging is really fast,Value for mo...   \n",
       "1  A Good Braided Cable for Your Type C Device,Go...   \n",
       "2  Good speed for earlier versions,Good Product,W...   \n",
       "3  Good product,Good one,Nice,Really nice product...   \n",
       "4  As good as original,Decent,Good one for second...   \n",
       "\n",
       "                                      review_content  \\\n",
       "0  Looks durable Charging is fine tooNo complains...   \n",
       "1  I ordered this cable to connect my phone to An...   \n",
       "2  Not quite durable and sturdy,https://m.media-a...   \n",
       "3  Good product,long wire,Charges good,Nice,I bou...   \n",
       "4  Bought this instead of original apple, does th...   \n",
       "\n",
       "                                            img_link  \\\n",
       "0  https://m.media-amazon.com/images/W/WEBP_40237...   \n",
       "1  https://m.media-amazon.com/images/W/WEBP_40237...   \n",
       "2  https://m.media-amazon.com/images/W/WEBP_40237...   \n",
       "3  https://m.media-amazon.com/images/I/41V5FtEWPk...   \n",
       "4  https://m.media-amazon.com/images/W/WEBP_40237...   \n",
       "\n",
       "                                        product_link  \n",
       "0  https://www.amazon.in/Wayona-Braided-WN3LG1-Sy...  \n",
       "1  https://www.amazon.in/Ambrane-Unbreakable-Char...  \n",
       "2  https://www.amazon.in/Sounce-iPhone-Charging-C...  \n",
       "3  https://www.amazon.in/Deuce-300-Resistant-Tang...  \n",
       "4  https://www.amazon.in/Portronics-Konnect-POR-1...  "
      ]
     },
     "execution_count": 6,
     "metadata": {},
     "output_type": "execute_result"
    }
   ],
   "source": [
    "df.head(5)"
   ]
  },
  {
   "cell_type": "markdown",
   "id": "ab3766b5-709e-42a7-906e-b5d204d4bc79",
   "metadata": {},
   "source": [
    "## Data Preprocessing"
   ]
  },
  {
   "cell_type": "code",
   "execution_count": 7,
   "id": "66ce22d4-699d-4251-8ffc-90bdcca93c58",
   "metadata": {},
   "outputs": [
    {
     "data": {
      "text/plain": [
       "product_id             0\n",
       "product_name           0\n",
       "category               0\n",
       "discounted_price       0\n",
       "actual_price           0\n",
       "discount_percentage    0\n",
       "rating                 0\n",
       "rating_count           2\n",
       "about_product          0\n",
       "user_id                0\n",
       "user_name              0\n",
       "review_id              0\n",
       "review_title           0\n",
       "review_content         0\n",
       "img_link               0\n",
       "product_link           0\n",
       "dtype: int64"
      ]
     },
     "execution_count": 7,
     "metadata": {},
     "output_type": "execute_result"
    }
   ],
   "source": [
    "df.isnull().sum()"
   ]
  },
  {
   "cell_type": "raw",
   "id": "a5fd90c8-0f8e-452a-bc40-946aa36e50fe",
   "metadata": {},
   "source": [
    "Dropping null values:"
   ]
  },
  {
   "cell_type": "code",
   "execution_count": 8,
   "id": "f6fe954f-4bb2-441e-91b1-b917f5bc17db",
   "metadata": {},
   "outputs": [],
   "source": [
    "df.dropna(inplace = True)"
   ]
  },
  {
   "cell_type": "code",
   "execution_count": 9,
   "id": "7ec56224-b578-4ce8-8da7-733599000a54",
   "metadata": {},
   "outputs": [
    {
     "data": {
      "text/plain": [
       "product_id             0\n",
       "product_name           0\n",
       "category               0\n",
       "discounted_price       0\n",
       "actual_price           0\n",
       "discount_percentage    0\n",
       "rating                 0\n",
       "rating_count           0\n",
       "about_product          0\n",
       "user_id                0\n",
       "user_name              0\n",
       "review_id              0\n",
       "review_title           0\n",
       "review_content         0\n",
       "img_link               0\n",
       "product_link           0\n",
       "dtype: int64"
      ]
     },
     "execution_count": 9,
     "metadata": {},
     "output_type": "execute_result"
    }
   ],
   "source": [
    "df.isnull().sum()"
   ]
  },
  {
   "cell_type": "code",
   "execution_count": 10,
   "id": "d92e527d-ca11-4632-9a0b-e3b243d622aa",
   "metadata": {},
   "outputs": [
    {
     "data": {
      "text/plain": [
       "(1463, 16)"
      ]
     },
     "execution_count": 10,
     "metadata": {},
     "output_type": "execute_result"
    }
   ],
   "source": [
    "df.shape"
   ]
  },
  {
   "cell_type": "code",
   "execution_count": 11,
   "id": "4ef53bbc-11a1-48d7-936e-025417ba8609",
   "metadata": {},
   "outputs": [
    {
     "data": {
      "text/plain": [
       "0"
      ]
     },
     "execution_count": 11,
     "metadata": {},
     "output_type": "execute_result"
    }
   ],
   "source": [
    "df.duplicated().sum()"
   ]
  },
  {
   "cell_type": "code",
   "execution_count": 12,
   "id": "5abe8fc1-6a46-45a4-b47f-556df1dcc6de",
   "metadata": {},
   "outputs": [
    {
     "name": "stdout",
     "output_type": "stream",
     "text": [
      "<class 'pandas.core.frame.DataFrame'>\n",
      "Index: 1463 entries, 0 to 1464\n",
      "Data columns (total 16 columns):\n",
      " #   Column               Non-Null Count  Dtype \n",
      "---  ------               --------------  ----- \n",
      " 0   product_id           1463 non-null   object\n",
      " 1   product_name         1463 non-null   object\n",
      " 2   category             1463 non-null   object\n",
      " 3   discounted_price     1463 non-null   object\n",
      " 4   actual_price         1463 non-null   object\n",
      " 5   discount_percentage  1463 non-null   object\n",
      " 6   rating               1463 non-null   object\n",
      " 7   rating_count         1463 non-null   object\n",
      " 8   about_product        1463 non-null   object\n",
      " 9   user_id              1463 non-null   object\n",
      " 10  user_name            1463 non-null   object\n",
      " 11  review_id            1463 non-null   object\n",
      " 12  review_title         1463 non-null   object\n",
      " 13  review_content       1463 non-null   object\n",
      " 14  img_link             1463 non-null   object\n",
      " 15  product_link         1463 non-null   object\n",
      "dtypes: object(16)\n",
      "memory usage: 194.3+ KB\n"
     ]
    }
   ],
   "source": [
    "df.info()"
   ]
  },
  {
   "cell_type": "raw",
   "id": "e23066e1-1c0c-4afb-ba3a-128b6667b41e",
   "metadata": {},
   "source": [
    "Changing data types of columns Discounted_price(float),actual_price(float),discount_percentage(int),rating(float) and rating_count(int)\n",
    "Removing rupee symbol from discount price,actual price and '%' symbol from discount_percentage."
   ]
  },
  {
   "cell_type": "code",
   "execution_count": 13,
   "id": "168ebac6-0ad6-4d5f-9790-8564565c2633",
   "metadata": {},
   "outputs": [],
   "source": [
    "df['actual_price'] = df['actual_price'].astype(str).apply(lambda x : x.replace('₹','').replace(',','')).astype(\"float\")\n",
    "df['discounted_price'] = df['discounted_price'].astype(str).apply(lambda x : x.replace('₹','').replace(',','')).astype(\"float\")\n",
    "df['discount_percentage'] = df['discount_percentage'].astype(str).apply(lambda x : x.replace('%','').replace(',','')).astype(\"int\")\n",
    "df['rating_count'] = df['rating_count'].astype(str).apply(lambda x : x.replace('nan','4').replace(',','')).astype(\"int\")"
   ]
  },
  {
   "cell_type": "code",
   "execution_count": 14,
   "id": "7fc149a7-e556-478e-8721-dce18c15b189",
   "metadata": {},
   "outputs": [
    {
     "data": {
      "text/plain": [
       "product_id              object\n",
       "product_name            object\n",
       "category                object\n",
       "discounted_price       float64\n",
       "actual_price           float64\n",
       "discount_percentage      int32\n",
       "rating                  object\n",
       "rating_count             int32\n",
       "about_product           object\n",
       "user_id                 object\n",
       "user_name               object\n",
       "review_id               object\n",
       "review_title            object\n",
       "review_content          object\n",
       "img_link                object\n",
       "product_link            object\n",
       "dtype: object"
      ]
     },
     "execution_count": 14,
     "metadata": {},
     "output_type": "execute_result"
    }
   ],
   "source": [
    "df.dtypes"
   ]
  },
  {
   "cell_type": "code",
   "execution_count": 15,
   "id": "6bbe57af-8c9c-4ef9-b263-a1c4866e1fef",
   "metadata": {},
   "outputs": [],
   "source": [
    "def is_float(num):\n",
    "    try:\n",
    "        float(num)\n",
    "    except:\n",
    "        return False\n",
    "    return True"
   ]
  },
  {
   "cell_type": "code",
   "execution_count": 16,
   "id": "0d044c26-af78-4108-974e-9f7155b4f8ce",
   "metadata": {},
   "outputs": [
    {
     "data": {
      "text/html": [
       "<div>\n",
       "<style scoped>\n",
       "    .dataframe tbody tr th:only-of-type {\n",
       "        vertical-align: middle;\n",
       "    }\n",
       "\n",
       "    .dataframe tbody tr th {\n",
       "        vertical-align: top;\n",
       "    }\n",
       "\n",
       "    .dataframe thead th {\n",
       "        text-align: right;\n",
       "    }\n",
       "</style>\n",
       "<table border=\"1\" class=\"dataframe\">\n",
       "  <thead>\n",
       "    <tr style=\"text-align: right;\">\n",
       "      <th></th>\n",
       "      <th>product_id</th>\n",
       "      <th>product_name</th>\n",
       "      <th>category</th>\n",
       "      <th>discounted_price</th>\n",
       "      <th>actual_price</th>\n",
       "      <th>discount_percentage</th>\n",
       "      <th>rating</th>\n",
       "      <th>rating_count</th>\n",
       "      <th>about_product</th>\n",
       "      <th>user_id</th>\n",
       "      <th>user_name</th>\n",
       "      <th>review_id</th>\n",
       "      <th>review_title</th>\n",
       "      <th>review_content</th>\n",
       "      <th>img_link</th>\n",
       "      <th>product_link</th>\n",
       "    </tr>\n",
       "  </thead>\n",
       "  <tbody>\n",
       "    <tr>\n",
       "      <th>1279</th>\n",
       "      <td>B08L12N5H1</td>\n",
       "      <td>Eureka Forbes car Vac 100 Watts Powerful Sucti...</td>\n",
       "      <td>Home&amp;Kitchen|Kitchen&amp;HomeAppliances|Vacuum,Cle...</td>\n",
       "      <td>2099.0</td>\n",
       "      <td>2499.0</td>\n",
       "      <td>16</td>\n",
       "      <td>|</td>\n",
       "      <td>992</td>\n",
       "      <td>No Installation is provided for this product|1...</td>\n",
       "      <td>AGTDSNT2FKVYEPDPXAA673AIS44A,AER2XFSWNN4LAUCJ5...</td>\n",
       "      <td>Divya,Dr Nefario,Deekshith,Preeti,Prasanth R,P...</td>\n",
       "      <td>R2KKTKM4M9RDVJ,R1O692MZOBTE79,R2WRSEWL56SOS4,R...</td>\n",
       "      <td>Decent product,doesn't pick up sand,Ok ok,Must...</td>\n",
       "      <td>Does the job well,doesn't work on sand. though...</td>\n",
       "      <td>https://m.media-amazon.com/images/W/WEBP_40237...</td>\n",
       "      <td>https://www.amazon.in/Eureka-Forbes-Vacuum-Cle...</td>\n",
       "    </tr>\n",
       "  </tbody>\n",
       "</table>\n",
       "</div>"
      ],
      "text/plain": [
       "      product_id                                       product_name  \\\n",
       "1279  B08L12N5H1  Eureka Forbes car Vac 100 Watts Powerful Sucti...   \n",
       "\n",
       "                                               category  discounted_price  \\\n",
       "1279  Home&Kitchen|Kitchen&HomeAppliances|Vacuum,Cle...            2099.0   \n",
       "\n",
       "      actual_price  discount_percentage rating  rating_count  \\\n",
       "1279        2499.0                   16      |           992   \n",
       "\n",
       "                                          about_product  \\\n",
       "1279  No Installation is provided for this product|1...   \n",
       "\n",
       "                                                user_id  \\\n",
       "1279  AGTDSNT2FKVYEPDPXAA673AIS44A,AER2XFSWNN4LAUCJ5...   \n",
       "\n",
       "                                              user_name  \\\n",
       "1279  Divya,Dr Nefario,Deekshith,Preeti,Prasanth R,P...   \n",
       "\n",
       "                                              review_id  \\\n",
       "1279  R2KKTKM4M9RDVJ,R1O692MZOBTE79,R2WRSEWL56SOS4,R...   \n",
       "\n",
       "                                           review_title  \\\n",
       "1279  Decent product,doesn't pick up sand,Ok ok,Must...   \n",
       "\n",
       "                                         review_content  \\\n",
       "1279  Does the job well,doesn't work on sand. though...   \n",
       "\n",
       "                                               img_link  \\\n",
       "1279  https://m.media-amazon.com/images/W/WEBP_40237...   \n",
       "\n",
       "                                           product_link  \n",
       "1279  https://www.amazon.in/Eureka-Forbes-Vacuum-Cle...  "
      ]
     },
     "execution_count": 16,
     "metadata": {},
     "output_type": "execute_result"
    }
   ],
   "source": [
    "#Let's check why we are not able to change datatype of count\n",
    "df[~df['rating'].apply(is_float)]"
   ]
  },
  {
   "cell_type": "code",
   "execution_count": 17,
   "id": "c4418abb-7941-4886-8fb2-bc20973f816a",
   "metadata": {},
   "outputs": [],
   "source": [
    "df.drop(1279,inplace = True)"
   ]
  },
  {
   "cell_type": "code",
   "execution_count": 18,
   "id": "9a6cd4eb-a099-47d7-8023-a8a9ee4e3f60",
   "metadata": {},
   "outputs": [],
   "source": [
    "df['rating'] = df['rating'].astype(str).apply(lambda x : x.replace(',','')).astype(\"float\")"
   ]
  },
  {
   "cell_type": "code",
   "execution_count": 19,
   "id": "5b4c86f1-e8ff-4488-b92c-bbaa75bee238",
   "metadata": {},
   "outputs": [
    {
     "data": {
      "text/plain": [
       "product_id              object\n",
       "product_name            object\n",
       "category                object\n",
       "discounted_price       float64\n",
       "actual_price           float64\n",
       "discount_percentage      int32\n",
       "rating                 float64\n",
       "rating_count             int32\n",
       "about_product           object\n",
       "user_id                 object\n",
       "user_name               object\n",
       "review_id               object\n",
       "review_title            object\n",
       "review_content          object\n",
       "img_link                object\n",
       "product_link            object\n",
       "dtype: object"
      ]
     },
     "execution_count": 19,
     "metadata": {},
     "output_type": "execute_result"
    }
   ],
   "source": [
    "df.dtypes"
   ]
  },
  {
   "cell_type": "code",
   "execution_count": 20,
   "id": "b0014cd7-38ad-4f86-a325-1cf8c5a39905",
   "metadata": {},
   "outputs": [
    {
     "name": "stdout",
     "output_type": "stream",
     "text": [
      "<class 'pandas.core.frame.DataFrame'>\n",
      "Index: 1462 entries, 0 to 1464\n",
      "Data columns (total 16 columns):\n",
      " #   Column               Non-Null Count  Dtype  \n",
      "---  ------               --------------  -----  \n",
      " 0   product_id           1462 non-null   object \n",
      " 1   product_name         1462 non-null   object \n",
      " 2   category             1462 non-null   object \n",
      " 3   discounted_price     1462 non-null   float64\n",
      " 4   actual_price         1462 non-null   float64\n",
      " 5   discount_percentage  1462 non-null   int32  \n",
      " 6   rating               1462 non-null   float64\n",
      " 7   rating_count         1462 non-null   int32  \n",
      " 8   about_product        1462 non-null   object \n",
      " 9   user_id              1462 non-null   object \n",
      " 10  user_name            1462 non-null   object \n",
      " 11  review_id            1462 non-null   object \n",
      " 12  review_title         1462 non-null   object \n",
      " 13  review_content       1462 non-null   object \n",
      " 14  img_link             1462 non-null   object \n",
      " 15  product_link         1462 non-null   object \n",
      "dtypes: float64(3), int32(2), object(11)\n",
      "memory usage: 182.8+ KB\n"
     ]
    },
    {
     "data": {
      "text/plain": [
       "(1462, 16)"
      ]
     },
     "execution_count": 20,
     "metadata": {},
     "output_type": "execute_result"
    }
   ],
   "source": [
    "df.info()\n",
    "df.shape"
   ]
  },
  {
   "cell_type": "markdown",
   "id": "4e43ec13-a14f-4d61-b5b4-c80042d806a1",
   "metadata": {},
   "source": [
    "## Exploratory Data Analysis"
   ]
  },
  {
   "cell_type": "code",
   "execution_count": 21,
   "id": "63321472-a8bd-49e0-84a9-d26b540938a3",
   "metadata": {},
   "outputs": [],
   "source": [
    "df_copy = df.copy()"
   ]
  },
  {
   "cell_type": "code",
   "execution_count": 22,
   "id": "2a78bef5-423a-45c3-a8f0-b4365b1ccf79",
   "metadata": {},
   "outputs": [
    {
     "data": {
      "text/plain": [
       "Index(['product_id', 'product_name', 'category', 'discounted_price',\n",
       "       'actual_price', 'discount_percentage', 'rating', 'rating_count',\n",
       "       'about_product', 'user_id', 'user_name', 'review_id', 'review_title',\n",
       "       'review_content', 'img_link', 'product_link'],\n",
       "      dtype='object')"
      ]
     },
     "execution_count": 22,
     "metadata": {},
     "output_type": "execute_result"
    }
   ],
   "source": [
    "df_copy.columns"
   ]
  },
  {
   "cell_type": "code",
   "execution_count": 23,
   "id": "ba59a9e4-687c-478f-9f05-af9aa803d814",
   "metadata": {},
   "outputs": [],
   "source": [
    "unique_product_count = df_copy['product_id'].nunique()\n",
    "average_price = round(df_copy['actual_price'].mean(),2)\n",
    "best_selling_product = df_copy.loc[df_copy['rating_count'].idxmax()]\n",
    "least_selling_product = df_copy.loc[df_copy['rating_count'].idxmin()]\n",
    "top_rated_product = df_copy.loc[df_copy['rating'].idxmax()]\n",
    "lowest_rated_product = df_copy.loc[df_copy['rating'].idxmin()]\n",
    "most_expensive_product = df_copy.loc[df_copy[\"actual_price\"].idxmax()]\n",
    "cheapest_product = df_copy.loc[df_copy['actual_price'].idxmin()]\n",
    "highest_discount_product = df_copy.loc[df_copy['discount_percentage'].idxmax()]\n",
    "avg_rating_count = round(df_copy['rating_count'].mean(),2)\n"
   ]
  },
  {
   "cell_type": "code",
   "execution_count": 24,
   "id": "2b644db1-bbea-4e55-883e-41a5bba8cb40",
   "metadata": {},
   "outputs": [],
   "source": [
    " data_table = pd.DataFrame({\n",
    "     'Query':['Best-selling product',\n",
    "              'Least-selling-product',\n",
    "              'Top-rated-product',\n",
    "              'Lowest-rated Product',\n",
    "              'Most Expensive Product',\n",
    "              'Cheapest Product',\n",
    "              'Highest Discount Product',\n",
    "              'No. of unique product',\n",
    "              'Average price',            \n",
    "              'Average Rating Count for Each Product'],\n",
    "     'Product_Name':[best_selling_product['product_name'],\n",
    "               least_selling_product['product_name'],\n",
    "               top_rated_product['product_name'],     \n",
    "               lowest_rated_product['product_name'],\n",
    "               most_expensive_product['product_name'],\n",
    "               cheapest_product['product_name'],\n",
    "               highest_discount_product['product_name'],\n",
    "               unique_product_count,\n",
    "               average_price,\n",
    "               avg_rating_count\n",
    "              ],\n",
    "     'Actual_Price':[best_selling_product['actual_price'],\n",
    "               least_selling_product['actual_price'],\n",
    "               top_rated_product['actual_price'],\n",
    "               lowest_rated_product['actual_price'],\n",
    "               most_expensive_product['actual_price'],\n",
    "               cheapest_product['actual_price'],\n",
    "               highest_discount_product['actual_price'],\n",
    "               None,\n",
    "               None,\n",
    "               None]\n",
    " })\n"
   ]
  },
  {
   "cell_type": "code",
   "execution_count": 25,
   "id": "e23a9cf8-6d6b-402a-a951-9fae51b4832d",
   "metadata": {},
   "outputs": [
    {
     "data": {
      "text/html": [
       "<style type=\"text/css\">\n",
       "#T_2f34c th {\n",
       "  text-align: left;\n",
       "}\n",
       "#T_2f34c_row0_col0, #T_2f34c_row0_col1, #T_2f34c_row0_col2, #T_2f34c_row1_col0, #T_2f34c_row1_col1, #T_2f34c_row1_col2, #T_2f34c_row2_col0, #T_2f34c_row2_col1, #T_2f34c_row2_col2, #T_2f34c_row3_col0, #T_2f34c_row3_col1, #T_2f34c_row3_col2, #T_2f34c_row4_col0, #T_2f34c_row4_col1, #T_2f34c_row4_col2, #T_2f34c_row5_col0, #T_2f34c_row5_col1, #T_2f34c_row5_col2, #T_2f34c_row6_col0, #T_2f34c_row6_col1, #T_2f34c_row6_col2, #T_2f34c_row7_col0, #T_2f34c_row7_col1, #T_2f34c_row7_col2, #T_2f34c_row8_col0, #T_2f34c_row8_col1, #T_2f34c_row8_col2, #T_2f34c_row9_col0, #T_2f34c_row9_col1, #T_2f34c_row9_col2 {\n",
       "  text-align: left;\n",
       "}\n",
       "</style>\n",
       "<table id=\"T_2f34c\">\n",
       "  <thead>\n",
       "    <tr>\n",
       "      <th class=\"blank level0\" >&nbsp;</th>\n",
       "      <th id=\"T_2f34c_level0_col0\" class=\"col_heading level0 col0\" >Query</th>\n",
       "      <th id=\"T_2f34c_level0_col1\" class=\"col_heading level0 col1\" >Product_Name</th>\n",
       "      <th id=\"T_2f34c_level0_col2\" class=\"col_heading level0 col2\" >Actual_Price</th>\n",
       "    </tr>\n",
       "  </thead>\n",
       "  <tbody>\n",
       "    <tr>\n",
       "      <th id=\"T_2f34c_level0_row0\" class=\"row_heading level0 row0\" >0</th>\n",
       "      <td id=\"T_2f34c_row0_col0\" class=\"data row0 col0\" >Best-selling product</td>\n",
       "      <td id=\"T_2f34c_row0_col1\" class=\"data row0 col1\" >AmazonBasics Flexible Premium HDMI Cable (Black, 4K@60Hz, 18Gbps), 3-Foot</td>\n",
       "      <td id=\"T_2f34c_row0_col2\" class=\"data row0 col2\" >700.000000</td>\n",
       "    </tr>\n",
       "    <tr>\n",
       "      <th id=\"T_2f34c_level0_row1\" class=\"row_heading level0 row1\" >1</th>\n",
       "      <td id=\"T_2f34c_row1_col0\" class=\"data row1 col0\" >Least-selling-product</td>\n",
       "      <td id=\"T_2f34c_row1_col1\" class=\"data row1 col1\" >Khaitan ORFin Fan heater for Home and kitchen-K0 2215</td>\n",
       "      <td id=\"T_2f34c_row1_col2\" class=\"data row1 col2\" >2495.000000</td>\n",
       "    </tr>\n",
       "    <tr>\n",
       "      <th id=\"T_2f34c_level0_row2\" class=\"row_heading level0 row2\" >2</th>\n",
       "      <td id=\"T_2f34c_row2_col0\" class=\"data row2 col0\" >Top-rated-product</td>\n",
       "      <td id=\"T_2f34c_row2_col1\" class=\"data row2 col1\" >Syncwire LTG to USB Cable for Fast Charging Compatible with Phone 5/ 5C/ 5S/ 6/ 6S/ 7/8/ X/XR/XS Max/ 11/12/ 13 Series and Pad Air/Mini, Pod & Other Devices (1.1 Meter, White)</td>\n",
       "      <td id=\"T_2f34c_row2_col2\" class=\"data row2 col2\" >1999.000000</td>\n",
       "    </tr>\n",
       "    <tr>\n",
       "      <th id=\"T_2f34c_level0_row3\" class=\"row_heading level0 row3\" >3</th>\n",
       "      <td id=\"T_2f34c_row3_col0\" class=\"data row3 col0\" >Lowest-rated Product</td>\n",
       "      <td id=\"T_2f34c_row3_col1\" class=\"data row3 col1\" >Khaitan ORFin Fan heater for Home and kitchen-K0 2215</td>\n",
       "      <td id=\"T_2f34c_row3_col2\" class=\"data row3 col2\" >2495.000000</td>\n",
       "    </tr>\n",
       "    <tr>\n",
       "      <th id=\"T_2f34c_level0_row4\" class=\"row_heading level0 row4\" >4</th>\n",
       "      <td id=\"T_2f34c_row4_col0\" class=\"data row4 col0\" >Most Expensive Product</td>\n",
       "      <td id=\"T_2f34c_row4_col1\" class=\"data row4 col1\" >Sony Bravia 164 cm (65 inches) 4K Ultra HD Smart LED Google TV KD-65X74K (Black)</td>\n",
       "      <td id=\"T_2f34c_row4_col2\" class=\"data row4 col2\" >139900.000000</td>\n",
       "    </tr>\n",
       "    <tr>\n",
       "      <th id=\"T_2f34c_level0_row5\" class=\"row_heading level0 row5\" >5</th>\n",
       "      <td id=\"T_2f34c_row5_col0\" class=\"data row5 col0\" >Cheapest Product</td>\n",
       "      <td id=\"T_2f34c_row5_col1\" class=\"data row5 col1\" >E-COSMOS 5V 1.2W Portable Flexible USB LED Light (Colours May Vary, Small, EC-POF1)</td>\n",
       "      <td id=\"T_2f34c_row5_col2\" class=\"data row5 col2\" >39.000000</td>\n",
       "    </tr>\n",
       "    <tr>\n",
       "      <th id=\"T_2f34c_level0_row6\" class=\"row_heading level0 row6\" >6</th>\n",
       "      <td id=\"T_2f34c_row6_col0\" class=\"data row6 col0\" >Highest Discount Product</td>\n",
       "      <td id=\"T_2f34c_row6_col1\" class=\"data row6 col1\" >rts [2 Pack] Mini USB C Type C Adapter Plug, Type C Female to USB A Male Charger Charging Cable Adapter Converter compatible for iPhone, Samsung S20 ultra/S21/S10/S8/S9/MacBook Pro iPad Silver</td>\n",
       "      <td id=\"T_2f34c_row6_col2\" class=\"data row6 col2\" >4999.000000</td>\n",
       "    </tr>\n",
       "    <tr>\n",
       "      <th id=\"T_2f34c_level0_row7\" class=\"row_heading level0 row7\" >7</th>\n",
       "      <td id=\"T_2f34c_row7_col0\" class=\"data row7 col0\" >No. of unique product</td>\n",
       "      <td id=\"T_2f34c_row7_col1\" class=\"data row7 col1\" >1348</td>\n",
       "      <td id=\"T_2f34c_row7_col2\" class=\"data row7 col2\" >nan</td>\n",
       "    </tr>\n",
       "    <tr>\n",
       "      <th id=\"T_2f34c_level0_row8\" class=\"row_heading level0 row8\" >8</th>\n",
       "      <td id=\"T_2f34c_row8_col0\" class=\"data row8 col0\" >Average price</td>\n",
       "      <td id=\"T_2f34c_row8_col1\" class=\"data row8 col1\" >5453.090000</td>\n",
       "      <td id=\"T_2f34c_row8_col2\" class=\"data row8 col2\" >nan</td>\n",
       "    </tr>\n",
       "    <tr>\n",
       "      <th id=\"T_2f34c_level0_row9\" class=\"row_heading level0 row9\" >9</th>\n",
       "      <td id=\"T_2f34c_row9_col0\" class=\"data row9 col0\" >Average Rating Count for Each Product</td>\n",
       "      <td id=\"T_2f34c_row9_col1\" class=\"data row9 col1\" >18307.380000</td>\n",
       "      <td id=\"T_2f34c_row9_col2\" class=\"data row9 col2\" >nan</td>\n",
       "    </tr>\n",
       "  </tbody>\n",
       "</table>\n"
      ],
      "text/plain": [
       "<pandas.io.formats.style.Styler at 0x13c47768310>"
      ]
     },
     "execution_count": 25,
     "metadata": {},
     "output_type": "execute_result"
    }
   ],
   "source": [
    "#To align data left side\n",
    "left_aligned_data = data_table.style.set_properties(**{'text-align': 'left'}) # only content\n",
    "final_table=left_aligned_data.set_table_styles(\n",
    "    [dict(selector='th', props=[('text-align', 'left')])]) # header alignment\n",
    "final_table"
   ]
  },
  {
   "cell_type": "markdown",
   "id": "a66441fc-fe75-43ab-a20c-f5c8bcd4ec36",
   "metadata": {},
   "source": [
    "### Sales Distribution by Category"
   ]
  },
  {
   "cell_type": "code",
   "execution_count": 26,
   "id": "acd88453-3be2-4a74-a17b-96f77a7d381b",
   "metadata": {},
   "outputs": [
    {
     "data": {
      "text/html": [
       "<div>\n",
       "<style scoped>\n",
       "    .dataframe tbody tr th:only-of-type {\n",
       "        vertical-align: middle;\n",
       "    }\n",
       "\n",
       "    .dataframe tbody tr th {\n",
       "        vertical-align: top;\n",
       "    }\n",
       "\n",
       "    .dataframe thead th {\n",
       "        text-align: right;\n",
       "    }\n",
       "</style>\n",
       "<table border=\"1\" class=\"dataframe\">\n",
       "  <thead>\n",
       "    <tr style=\"text-align: right;\">\n",
       "      <th></th>\n",
       "      <th>main_category</th>\n",
       "      <th>discounted_price</th>\n",
       "    </tr>\n",
       "  </thead>\n",
       "  <tbody>\n",
       "    <tr>\n",
       "      <th>0</th>\n",
       "      <td>Car&amp;Motorbike</td>\n",
       "      <td>2339.00</td>\n",
       "    </tr>\n",
       "    <tr>\n",
       "      <th>1</th>\n",
       "      <td>Computers&amp;Accessories</td>\n",
       "      <td>381272.62</td>\n",
       "    </tr>\n",
       "    <tr>\n",
       "      <th>2</th>\n",
       "      <td>Electronics</td>\n",
       "      <td>3138057.00</td>\n",
       "    </tr>\n",
       "    <tr>\n",
       "      <th>3</th>\n",
       "      <td>Health&amp;PersonalCare</td>\n",
       "      <td>899.00</td>\n",
       "    </tr>\n",
       "    <tr>\n",
       "      <th>4</th>\n",
       "      <td>Home&amp;Kitchen</td>\n",
       "      <td>1042016.81</td>\n",
       "    </tr>\n",
       "    <tr>\n",
       "      <th>5</th>\n",
       "      <td>HomeImprovement</td>\n",
       "      <td>674.00</td>\n",
       "    </tr>\n",
       "    <tr>\n",
       "      <th>6</th>\n",
       "      <td>MusicalInstruments</td>\n",
       "      <td>1276.00</td>\n",
       "    </tr>\n",
       "    <tr>\n",
       "      <th>7</th>\n",
       "      <td>OfficeProducts</td>\n",
       "      <td>9349.00</td>\n",
       "    </tr>\n",
       "    <tr>\n",
       "      <th>8</th>\n",
       "      <td>Toys&amp;Games</td>\n",
       "      <td>150.00</td>\n",
       "    </tr>\n",
       "  </tbody>\n",
       "</table>\n",
       "</div>"
      ],
      "text/plain": [
       "           main_category  discounted_price\n",
       "0          Car&Motorbike           2339.00\n",
       "1  Computers&Accessories         381272.62\n",
       "2            Electronics        3138057.00\n",
       "3    Health&PersonalCare            899.00\n",
       "4           Home&Kitchen        1042016.81\n",
       "5        HomeImprovement            674.00\n",
       "6     MusicalInstruments           1276.00\n",
       "7         OfficeProducts           9349.00\n",
       "8             Toys&Games            150.00"
      ]
     },
     "execution_count": 26,
     "metadata": {},
     "output_type": "execute_result"
    }
   ],
   "source": [
    "df_copy['main_category'] = df_copy['category'].apply(lambda x : x.split('|')[0]) # fetching main category\n",
    "category_sales = df_copy.groupby('main_category' )['discounted_price'].sum().reset_index()\n",
    "category_sales"
   ]
  },
  {
   "cell_type": "code",
   "execution_count": 27,
   "id": "c5fc9c74-8df3-4b37-ba2f-8f1004567b8e",
   "metadata": {},
   "outputs": [
    {
     "data": {
      "image/png": "[encoded data removed]",
      "text/plain": [
       "<Figure size 640x480 with 1 Axes>"
      ]
     },
     "metadata": {},
     "output_type": "display_data"
    }
   ],
   "source": [
    "mylables = category_sales['main_category']\n",
    "explodes = [0.3,0.1,0,0.3,0.1,0.3,0.3,0.3,0.3]\n",
    "plt.pie(category_sales['discounted_price'],colors=['Violet','indigo','blue','black','yellow','orange','red','purple'],autopct = '%.2f',explode=explodes,startangle=90,counterclock=False)\n",
    "plt.title('Sales Distribution By Category')\n",
    "plt.legend(mylables,loc=(1.5,0.25))\n",
    "plt.show()"
   ]
  },
  {
   "cell_type": "markdown",
   "id": "e89b0ff5-4ac7-4819-a9bb-cee4845ff8b1",
   "metadata": {},
   "source": [
    "### Top ten subcategories"
   ]
  },
  {
   "cell_type": "code",
   "execution_count": 28,
   "id": "841e6e89-0e71-4008-a281-56dcd9fb7f1a",
   "metadata": {},
   "outputs": [
    {
     "data": {
      "image/png": "[encoded data removed]",
      "text/plain": [
       "<Figure size 640x480 with 1 Axes>"
      ]
     },
     "metadata": {},
     "output_type": "display_data"
    }
   ],
   "source": [
    "df_copy['subcategory'] = df_copy['category'].apply(lambda x : x.split('|')[1])\n",
    "subcategory_sales = df_copy.groupby('subcategory')['rating_count'].mean().reset_index()\n",
    "sorted = subcategory_sales.sort_values(by=['rating_count'],ascending = False).reset_index(drop=True)\n",
    "plot = sorted[0:10]\n",
    "plt.barh(plot['subcategory'],plot['rating_count'],height = 0.8,)\n",
    "plt.xlabel('Rating_count')\n",
    "plt.show()"
   ]
  },
  {
   "cell_type": "markdown",
   "id": "29dabb13-cc41-4ae6-bb0c-5551a00e9b17",
   "metadata": {},
   "source": [
    "#### Sales Comparison"
   ]
  },
  {
   "cell_type": "code",
   "execution_count": 29,
   "id": "fd2d5a54-6d51-443d-9ca4-e00b8b9cc1c6",
   "metadata": {},
   "outputs": [],
   "source": [
    "values = df_copy.groupby(['subcategory']).agg({'discount_percentage':np.mean,\"actual_price\":np.mean,\"discounted_price\":np.mean})\n",
    "sorted_actual_price=values.sort_values(by=['actual_price'],ascending = False).reset_index()\n",
    "data = sorted_actual_price[:10]"
   ]
  },
  {
   "cell_type": "code",
   "execution_count": 30,
   "id": "8b1d5a97-c681-4158-9976-9bc9cc44bae8",
   "metadata": {},
   "outputs": [
    {
     "data": {
      "image/png": "[encoded data removed]",
      "text/plain": [
       "<Figure size 640x480 with 2 Axes>"
      ]
     },
     "metadata": {},
     "output_type": "display_data"
    }
   ],
   "source": [
    "fig,x1=plt.subplots()\n",
    "x2=x1.twinx()\n",
    "x1.bar(data[\"subcategory\"],data['actual_price'])\n",
    "x1.set_xlabel(\"subcategory\",color='Blue')\n",
    "x1.set_ylabel(\"Actual_price\",color='Blue')\n",
    "x2.set_ylabel(\"discount_percentage\",color='red')\n",
    "x1.tick_params(axis = 'x',rotation = 80,color='Black')\n",
    "x2.plot(data[\"subcategory\"],data['discount_percentage'],color=\"red\")\n",
    "plt.title(\"Actual Price Vs Discount Percentage based on Subcategory\")\n",
    "plt.show()"
   ]
  },
  {
   "cell_type": "markdown",
   "id": "a7e87261-120c-47ae-81cd-f6ad1bfdb633",
   "metadata": {},
   "source": [
    "#### Popularity Based Recommendation System"
   ]
  },
  {
   "cell_type": "code",
   "execution_count": 31,
   "id": "e299a790-3eec-4c47-bbf6-a75b973d3eb5",
   "metadata": {},
   "outputs": [
    {
     "data": {
      "text/plain": [
       "Index(['product_id', 'product_name', 'category', 'discounted_price',\n",
       "       'actual_price', 'discount_percentage', 'rating', 'rating_count',\n",
       "       'about_product', 'user_id', 'user_name', 'review_id', 'review_title',\n",
       "       'review_content', 'img_link', 'product_link'],\n",
       "      dtype='object')"
      ]
     },
     "execution_count": 31,
     "metadata": {},
     "output_type": "execute_result"
    }
   ],
   "source": [
    "df.columns"
   ]
  },
  {
   "cell_type": "raw",
   "id": "5180f9fe-92d9-4225-86ef-adb998cbe3a7",
   "metadata": {},
   "source": [
    "Consider first product got 4 rating and 250 rating_count where another product got 4 rating but 400 rating_count.\n",
    "that means the second product got more prefference by customers rather than first so we will use \"weighted average rating\" instead of average rating.\n",
    "Calculating weighted average:"
   ]
  },
  {
   "cell_type": "code",
   "execution_count": 98,
   "id": "4f24a399-a08b-4f66-9c85-5e3e81c39167",
   "metadata": {},
   "outputs": [
    {
     "name": "stderr",
     "output_type": "stream",
     "text": [
      "C:\\Users\\HP\\AppData\\Local\\Temp\\ipykernel_2844\\1787917901.py:2: SettingWithCopyWarning: \n",
      "A value is trying to be set on a copy of a slice from a DataFrame.\n",
      "Try using .loc[row_indexer,col_indexer] = value instead\n",
      "\n",
      "See the caveats in the documentation: https://pandas.pydata.org/pandas-docs/stable/user_guide/indexing.html#returning-a-view-versus-a-copy\n",
      "  df_popular['weighted_average'] = (df['rating'] * df['rating_count']) /df['rating_count'] * (df['rating_count']/1000)\n"
     ]
    }
   ],
   "source": [
    "#weighted_average_rating:\n",
    "df_popular['weighted_average'] = (df['rating'] * df['rating_count']) /df['rating_count'] * (df['rating_count']/1000)\n"
   ]
  },
  {
   "cell_type": "code",
   "execution_count": 99,
   "id": "1dec32ea-d15d-4b6b-8c71-0477e00cf643",
   "metadata": {},
   "outputs": [],
   "source": [
    "#select the column usefull for popularity based recommendetion system:\n",
    "df_popular = df[['product_id','product_name','category','rating','rating_count']]\n"
   ]
  },
  {
   "cell_type": "code",
   "execution_count": 103,
   "id": "f69ed497-de3e-4f87-83df-f5f81612eba1",
   "metadata": {},
   "outputs": [
    {
     "name": "stderr",
     "output_type": "stream",
     "text": [
      "C:\\Users\\HP\\AppData\\Local\\Temp\\ipykernel_2844\\439999338.py:1: SettingWithCopyWarning: \n",
      "A value is trying to be set on a copy of a slice from a DataFrame.\n",
      "Try using .loc[row_indexer,col_indexer] = value instead\n",
      "\n",
      "See the caveats in the documentation: https://pandas.pydata.org/pandas-docs/stable/user_guide/indexing.html#returning-a-view-versus-a-copy\n",
      "  df_popular['category'] = df_popular['category'].apply(lambda x:\" \".join(x.split('|')[0:2]))\n",
      "C:\\Users\\HP\\AppData\\Local\\Temp\\ipykernel_2844\\439999338.py:2: SettingWithCopyWarning: \n",
      "A value is trying to be set on a copy of a slice from a DataFrame.\n",
      "Try using .loc[row_indexer,col_indexer] = value instead\n",
      "\n",
      "See the caveats in the documentation: https://pandas.pydata.org/pandas-docs/stable/user_guide/indexing.html#returning-a-view-versus-a-copy\n",
      "  df_popular['category'] = df_popular['category'].str.lower()\n"
     ]
    },
    {
     "data": {
      "text/plain": [
       "0    computers&accessories accessories&peripherals\n",
       "1    computers&accessories accessories&peripherals\n",
       "2    computers&accessories accessories&peripherals\n",
       "Name: category, dtype: object"
      ]
     },
     "execution_count": 103,
     "metadata": {},
     "output_type": "execute_result"
    }
   ],
   "source": [
    "df_popular['category'] = df_popular['category'].apply(lambda x:\" \".join(x.split('|')[0:2]))\n",
    "df_popular['category'] = df_popular['category'].str.lower()\n",
    "df_popular[\"category\"].head(3)"
   ]
  },
  {
   "cell_type": "code",
   "execution_count": 47,
   "id": "b1d7d900-c4bd-457e-b3a7-1a541a3b7253",
   "metadata": {},
   "outputs": [
    {
     "name": "stderr",
     "output_type": "stream",
     "text": [
      "C:\\Users\\HP\\AppData\\Local\\Temp\\ipykernel_2844\\1810031179.py:1: SettingWithCopyWarning: \n",
      "A value is trying to be set on a copy of a slice from a DataFrame.\n",
      "Try using .loc[row_indexer,col_indexer] = value instead\n",
      "\n",
      "See the caveats in the documentation: https://pandas.pydata.org/pandas-docs/stable/user_guide/indexing.html#returning-a-view-versus-a-copy\n",
      "  df_popular[\"weighted_average\"] = round(((df['rating'] * df['rating_count']) /df['rating_count'] * (df['rating_count']/1000)),3)\n"
     ]
    }
   ],
   "source": [
    "df_popular[\"weighted_average\"] = round(((df['rating'] * df['rating_count']) /df['rating_count'] * (df['rating_count']/1000)),3)"
   ]
  },
  {
   "cell_type": "code",
   "execution_count": 62,
   "id": "d6c3f771-6b3a-44d8-901b-3c0c223f9402",
   "metadata": {},
   "outputs": [],
   "source": [
    "df_popular.groupby('category')\n",
    "df_sorted = df_popular.sort_values(by='weighted_average' ,ascending = False)\n",
    "df_sorted = df_sorted.reset_index()\n",
    "df_sorted = df_sorted[['product_name','category','weighted_average']]"
   ]
  },
  {
   "cell_type": "code",
   "execution_count": 71,
   "id": "bc757fc3-2a5d-4d43-8140-8fb623012901",
   "metadata": {},
   "outputs": [
    {
     "data": {
      "text/html": [
       "<div>\n",
       "<style scoped>\n",
       "    .dataframe tbody tr th:only-of-type {\n",
       "        vertical-align: middle;\n",
       "    }\n",
       "\n",
       "    .dataframe tbody tr th {\n",
       "        vertical-align: top;\n",
       "    }\n",
       "\n",
       "    .dataframe thead th {\n",
       "        text-align: right;\n",
       "    }\n",
       "</style>\n",
       "<table border=\"1\" class=\"dataframe\">\n",
       "  <thead>\n",
       "    <tr style=\"text-align: right;\">\n",
       "      <th></th>\n",
       "      <th>product_name</th>\n",
       "      <th>category</th>\n",
       "      <th>weighted_average</th>\n",
       "    </tr>\n",
       "  </thead>\n",
       "  <tbody>\n",
       "    <tr>\n",
       "      <th>0</th>\n",
       "      <td>Amazon Basics High-Speed HDMI Cable, 6 Feet (2...</td>\n",
       "      <td>electronics hometheater,tv&amp;video</td>\n",
       "      <td>1878.681</td>\n",
       "    </tr>\n",
       "    <tr>\n",
       "      <th>1</th>\n",
       "      <td>AmazonBasics Flexible Premium HDMI Cable (Blac...</td>\n",
       "      <td>electronics hometheater,tv&amp;video</td>\n",
       "      <td>1878.681</td>\n",
       "    </tr>\n",
       "    <tr>\n",
       "      <th>2</th>\n",
       "      <td>Amazon Basics High-Speed HDMI Cable, 6 Feet - ...</td>\n",
       "      <td>electronics hometheater,tv&amp;video</td>\n",
       "      <td>1878.681</td>\n",
       "    </tr>\n",
       "    <tr>\n",
       "      <th>3</th>\n",
       "      <td>AmazonBasics Flexible Premium HDMI Cable (Blac...</td>\n",
       "      <td>electronics hometheater,tv&amp;video</td>\n",
       "      <td>1878.677</td>\n",
       "    </tr>\n",
       "    <tr>\n",
       "      <th>4</th>\n",
       "      <td>boAt Bassheads 100 in Ear Wired Earphones with...</td>\n",
       "      <td>electronics headphones,earbuds&amp;accessories</td>\n",
       "      <td>1491.223</td>\n",
       "    </tr>\n",
       "    <tr>\n",
       "      <th>...</th>\n",
       "      <td>...</td>\n",
       "      <td>...</td>\n",
       "      <td>...</td>\n",
       "    </tr>\n",
       "    <tr>\n",
       "      <th>1457</th>\n",
       "      <td>Longway Blaze 2 Rod Quartz Room Heater (White,...</td>\n",
       "      <td>home&amp;kitchen heating,cooling&amp;airquality</td>\n",
       "      <td>0.015</td>\n",
       "    </tr>\n",
       "    <tr>\n",
       "      <th>1458</th>\n",
       "      <td>Lifelong LLQH925 Dyno Quartz Heater 2 Power se...</td>\n",
       "      <td>home&amp;kitchen heating,cooling&amp;airquality</td>\n",
       "      <td>0.015</td>\n",
       "    </tr>\n",
       "    <tr>\n",
       "      <th>1459</th>\n",
       "      <td>VAPJA® Portable Mini Juicer Cup Blender USB Re...</td>\n",
       "      <td>home&amp;kitchen kitchen&amp;homeappliances</td>\n",
       "      <td>0.014</td>\n",
       "    </tr>\n",
       "    <tr>\n",
       "      <th>1460</th>\n",
       "      <td>NGI Store 2 Pieces Pet Hair Removers for Your ...</td>\n",
       "      <td>home&amp;kitchen kitchen&amp;homeappliances</td>\n",
       "      <td>0.006</td>\n",
       "    </tr>\n",
       "    <tr>\n",
       "      <th>1461</th>\n",
       "      <td>Khaitan ORFin Fan heater for Home and kitchen-...</td>\n",
       "      <td>home&amp;kitchen heating,cooling&amp;airquality</td>\n",
       "      <td>0.004</td>\n",
       "    </tr>\n",
       "  </tbody>\n",
       "</table>\n",
       "<p>1462 rows × 3 columns</p>\n",
       "</div>"
      ],
      "text/plain": [
       "                                           product_name  \\\n",
       "0     Amazon Basics High-Speed HDMI Cable, 6 Feet (2...   \n",
       "1     AmazonBasics Flexible Premium HDMI Cable (Blac...   \n",
       "2     Amazon Basics High-Speed HDMI Cable, 6 Feet - ...   \n",
       "3     AmazonBasics Flexible Premium HDMI Cable (Blac...   \n",
       "4     boAt Bassheads 100 in Ear Wired Earphones with...   \n",
       "...                                                 ...   \n",
       "1457  Longway Blaze 2 Rod Quartz Room Heater (White,...   \n",
       "1458  Lifelong LLQH925 Dyno Quartz Heater 2 Power se...   \n",
       "1459  VAPJA® Portable Mini Juicer Cup Blender USB Re...   \n",
       "1460  NGI Store 2 Pieces Pet Hair Removers for Your ...   \n",
       "1461  Khaitan ORFin Fan heater for Home and kitchen-...   \n",
       "\n",
       "                                        category  weighted_average  \n",
       "0               electronics hometheater,tv&video          1878.681  \n",
       "1               electronics hometheater,tv&video          1878.681  \n",
       "2               electronics hometheater,tv&video          1878.681  \n",
       "3               electronics hometheater,tv&video          1878.677  \n",
       "4     electronics headphones,earbuds&accessories          1491.223  \n",
       "...                                          ...               ...  \n",
       "1457     home&kitchen heating,cooling&airquality             0.015  \n",
       "1458     home&kitchen heating,cooling&airquality             0.015  \n",
       "1459         home&kitchen kitchen&homeappliances             0.014  \n",
       "1460         home&kitchen kitchen&homeappliances             0.006  \n",
       "1461     home&kitchen heating,cooling&airquality             0.004  \n",
       "\n",
       "[1462 rows x 3 columns]"
      ]
     },
     "execution_count": 71,
     "metadata": {},
     "output_type": "execute_result"
    }
   ],
   "source": [
    "df_sorted"
   ]
  },
  {
   "cell_type": "code",
   "execution_count": 84,
   "id": "886d901b-d99d-44f1-a0a9-bb1d14a365ef",
   "metadata": {},
   "outputs": [],
   "source": [
    "def popular_recommendation(text):\n",
    "    mask = df_sorted[\"category\"].str.split()\n",
    "    product_list=[]\n",
    "    for i in range(len(mask)):\n",
    "        if text in mask[i]:\n",
    "            product_list.append(df_sorted.iloc[i]['product_name'])\n",
    "\n",
    "    return product_list\n",
    "    \n",
    "    return \"No product found with the specified category\"\n",
    "    \n"
   ]
  },
  {
   "cell_type": "code",
   "execution_count": 85,
   "id": "033861a6-3972-485a-8bf8-76992e97682c",
   "metadata": {},
   "outputs": [
    {
     "name": "stdout",
     "output_type": "stream",
     "text": [
      "Amazon Basics High-Speed HDMI Cable, 6 Feet (2-Pack),Black\n",
      "AmazonBasics Flexible Premium HDMI Cable (Black, 4K@60Hz, 18Gbps), 3-Foot\n",
      "Amazon Basics High-Speed HDMI Cable, 6 Feet - Supports Ethernet, 3D, 4K video,Black\n",
      "AmazonBasics Flexible Premium HDMI Cable (Black, 4K@60Hz, 18Gbps), 3-Foot\n",
      "boAt Bassheads 100 in Ear Wired Earphones with Mic(Taffy Pink)\n"
     ]
    }
   ],
   "source": [
    "product = popular_recommendation('electronics')\n",
    "for i in product[0:5]:\n",
    "    print(i)\n"
   ]
  },
  {
   "cell_type": "markdown",
   "id": "47461b94-a2f8-4851-a992-e144ffff9563",
   "metadata": {},
   "source": [
    "#### Content Based Recommendation System"
   ]
  },
  {
   "cell_type": "code",
   "execution_count": 107,
   "id": "6f5330fa-5868-4530-9802-28f427bd91d3",
   "metadata": {},
   "outputs": [
    {
     "data": {
      "text/plain": [
       "['2.0.3']"
      ]
     },
     "execution_count": 107,
     "metadata": {},
     "output_type": "execute_result"
    }
   ],
   "source": [
    "[pd.__version__]"
   ]
  }
 ],
 "metadata": {
  "kernelspec": {
   "display_name": "Python 3 (ipykernel)",
   "language": "python",
   "name": "python3"
  },
  "language_info": {
   "codemirror_mode": {
    "name": "ipython",
    "version": 3
   },
   "file_extension": ".py",
   "mimetype": "text/x-python",
   "name": "python",
   "nbconvert_exporter": "python",
   "pygments_lexer": "ipython3",
   "version": "3.11.4"
  }
 },
 "nbformat": 4,
 "nbformat_minor": 5
}
